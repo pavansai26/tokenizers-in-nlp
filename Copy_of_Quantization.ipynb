{
  "nbformat": 4,
  "nbformat_minor": 0,
  "metadata": {
    "colab": {
      "provenance": [],
      "authorship_tag": "ABX9TyPmUDINQIFGhMqsAXExrUb9",
      "include_colab_link": true
    },
    "kernelspec": {
      "name": "python3",
      "display_name": "Python 3"
    },
    "language_info": {
      "name": "python"
    }
  },
  "cells": [
    {
      "cell_type": "markdown",
      "metadata": {
        "id": "view-in-github",
        "colab_type": "text"
      },
      "source": [
        "<a href=\"https://colab.research.google.com/github/pavansai26/tokenizers-in-nlp/blob/main/Copy_of_Quantization.ipynb\" target=\"_parent\"><img src=\"https://colab.research.google.com/assets/colab-badge.svg\" alt=\"Open In Colab\"/></a>"
      ]
    },
    {
      "cell_type": "markdown",
      "source": [
        "#Diving Deep into Deep Learning Quantization:"
      ],
      "metadata": {
        "id": "GQbEm5SZuBwL"
      }
    },
    {
      "cell_type": "markdown",
      "source": [
        "#The ever-growing complexity of deep learning models presents a fascinating challenge: shrinking them down for deployment. Luckily, quantization comes to the rescue, a technique that squeezes the hefty size of models without sacrificing too much on their accuracy."
      ],
      "metadata": {
        "id": "v7aq7AjluNsk"
      }
    },
    {
      "cell_type": "markdown",
      "source": [
        "#The Big Picture:"
      ],
      "metadata": {
        "id": "5NvByBbvuUnB"
      }
    },
    {
      "cell_type": "markdown",
      "source": [
        "#Quantization replaces the high-precision numbers (32-bit floats) that power deep learning models with smaller, discrete values (like 8-bit integers). This compression magic translates to reduced storage, faster inference speeds, and lower energy consumption, making models shine on resource-constrained devices."
      ],
      "metadata": {
        "id": "hWGiDvnxuZ6y"
      }
    },
    {
      "cell_type": "markdown",
      "source": [
        "#Quantization Techniques:"
      ],
      "metadata": {
        "id": "t8_hvJrmuowI"
      }
    },
    {
      "cell_type": "markdown",
      "source": [
        "#1.Post-Training Quantization (PTQ)"
      ],
      "metadata": {
        "id": "VbrygVZWuzG0"
      }
    },
    {
      "cell_type": "markdown",
      "source": [
        "#2.Quantization-Aware Training (QAT)"
      ],
      "metadata": {
        "id": "_w0ak9Sju45H"
      }
    },
    {
      "cell_type": "markdown",
      "source": [
        "#3.Knowledge Distillation (KD)"
      ],
      "metadata": {
        "id": "PJffAkt0u9Mk"
      }
    },
    {
      "cell_type": "markdown",
      "source": [
        "#4.Dynamic Quantization"
      ],
      "metadata": {
        "id": "N7OLWopnvDcT"
      }
    },
    {
      "cell_type": "markdown",
      "source": [
        "#5.Mixed Precision Quantization"
      ],
      "metadata": {
        "id": "TrAkgVDCvL-H"
      }
    },
    {
      "cell_type": "markdown",
      "source": [
        "#Advantages:\n",
        "\n"
      ],
      "metadata": {
        "id": "EC3cWYmOwXMc"
      }
    },
    {
      "cell_type": "markdown",
      "source": [
        "#Smaller model size: Takes up less storage and downloads faster.\n",
        "\n",
        "#Faster inference: Calculations with smaller numbers are quicker.\n",
        "\n",
        "#Lower energy consumption: Requires less power to run.\n",
        "\n",
        "#Deployment on resource-constrained devices: Runs on devices with limited memory and processing power."
      ],
      "metadata": {
        "id": "PTdejNguwbZA"
      }
    },
    {
      "cell_type": "markdown",
      "source": [
        "#Disadvantages:"
      ],
      "metadata": {
        "id": "h71Vz4Ttwlqz"
      }
    },
    {
      "cell_type": "markdown",
      "source": [
        "#Potential accuracy loss: Shrinking numbers can introduce errors.\n",
        "\n",
        "#More complex workflow: PTQ needs calibration, QAT requires special training techniques.\n",
        "\n",
        "#Not a one-size-fits-all: Choosing the right quantization level is crucial."
      ],
      "metadata": {
        "id": "uQeE_Lo0wplP"
      }
    },
    {
      "cell_type": "code",
      "execution_count": null,
      "metadata": {
        "id": "S-6_ktBgpnHk"
      },
      "outputs": [],
      "source": []
    }
  ]
}